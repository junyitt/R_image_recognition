{
 "cells": [
  {
   "cell_type": "code",
   "execution_count": null,
   "metadata": {},
   "outputs": [],
   "source": [
    "!pip install opencv-python\n",
    "!pip install dlib"
   ]
  },
  {
   "cell_type": "code",
   "execution_count": 42,
   "metadata": {},
   "outputs": [
    {
     "name": "stdout",
     "output_type": "stream",
     "text": [
      "ok\n"
     ]
    }
   ],
   "source": [
    "import numpy as np\n",
    "import cv2\n",
    "import os\n",
    "\n",
    "\n",
    "try: \n",
    "    face_cascade = cv2.CascadeClassifier('haarcascade_frontalface_default.xml')\n",
    "    eye_cascade = cv2.CascadeClassifier('haarcascade_eye.xml')\n",
    "\n",
    "    img_path = os.path.join(\"DataTest\", \"_yinyen\", \"bb.jpeg\")\n",
    "    img_path = os.path.join(\"DataTest\", \"_yinyen\", \"2.jpg\")\n",
    "\n",
    "    img_file = \"WhatsApp Image 2019-05-05 at 18.19.15(1).jpeg\"\n",
    "    img_path = os.path.join(\"DataTest\", \"_insta\", img_file)\n",
    "    # img_path = os.path.join(\"DataTest\", \"_yinyen\", \"19274921_1355879227815089_872306674373643628_n.jpeg\")\n",
    "    # img_path = os.path.join(\"food.jpg\")\n",
    "    img = cv2.imread(img_path)\n",
    "    gray = cv2.cvtColor(img, cv2.COLOR_BGR2GRAY) #Transform image to grayscale\n",
    "    faces = face_cascade.detectMultiScale(gray, 1.3, 5) #Face Detection\n",
    "    x,y,w,h = faces[0]\n",
    "    crop_img = img[y:y+h, x:x+w]\n",
    "    cv2.imwrite('output5.png',crop_img)\n",
    "    print(\"ok\")\n",
    "except:\n",
    "#     cv2.imwrite('output5.png',img)\n",
    "    print(\"can't find face\")\n"
   ]
  },
  {
   "cell_type": "code",
   "execution_count": 181,
   "metadata": {},
   "outputs": [],
   "source": [
    "\n"
   ]
  },
  {
   "cell_type": "code",
   "execution_count": 182,
   "metadata": {},
   "outputs": [
    {
     "data": {
      "text/plain": [
       "(260, 280, 3)"
      ]
     },
     "execution_count": 182,
     "metadata": {},
     "output_type": "execute_result"
    }
   ],
   "source": [
    "img.shape"
   ]
  },
  {
   "cell_type": "code",
   "execution_count": 179,
   "metadata": {},
   "outputs": [
    {
     "data": {
      "text/plain": [
       "array([-180, -170, -160, -150, -140, -130, -120, -110, -100,  -90,  -80,\n",
       "        -70,  -60,  -50,  -40,  -30,  -20,  -10,    0,   10,   20,   30,\n",
       "         40,   50,   60,   70,   80,   90,  100,  110,  120,  130,  140,\n",
       "        150,  160,  170])"
      ]
     },
     "execution_count": 179,
     "metadata": {},
     "output_type": "execute_result"
    }
   ],
   "source": []
  },
  {
   "cell_type": "code",
   "execution_count": 260,
   "metadata": {},
   "outputs": [],
   "source": [
    "import numpy as np\n",
    "import cv2\n",
    "import os\n",
    "\n",
    "face_cascade = cv2.CascadeClassifier(\"haarcascade_frontalface_default.xml\")\n",
    "eye_cascade = cv2.CascadeClassifier(\"haarcascade_eye.xml\")\n",
    "        \n",
    "def get_eyes_shape(img, rotation_degree):\n",
    "    try:\n",
    "        rows,cols,channels = img.shape\n",
    "        M = cv2.getRotationMatrix2D((cols/2,rows/2),rotation_degree,1)\n",
    "        dst = cv2.warpAffine(img,M,(cols,rows))\n",
    "        gray = cv2.cvtColor(dst, cv2.COLOR_BGR2GRAY) #Transform image to grayscale\n",
    "        faces = face_cascade.detectMultiScale(gray, 1.3, 5) #Face Detection\n",
    "        if len(faces) == 0:\n",
    "            return 0\n",
    "        eyes = eye_cascade.detectMultiScale(gray)\n",
    "        \n",
    "        return eyes.shape[0]\n",
    "    except: \n",
    "        return 0\n",
    "\n",
    "def get_correct_rdeg(img, threshold = 2):\n",
    "    counter = 0 \n",
    "    previous = 0\n",
    "    for rotation_degree in np.arange(-30, 330, 5):\n",
    "        current = get_eyes_shape(img, rotation_degree)\n",
    "        if current == 2:\n",
    "            counter = counter + 1\n",
    "        else:\n",
    "            counter = 0\n",
    "        if counter > threshold:\n",
    "            return rotation_degree\n",
    "    \n",
    "    return None\n",
    "\n",
    "def get_crop_img_without_rotation(img_path):\n",
    "    try:\n",
    "        img = cv2.imread(img_path)\n",
    "        gray = cv2.cvtColor(img, cv2.COLOR_BGR2GRAY) #Transform image to grayscale\n",
    "        faces = face_cascade.detectMultiScale(gray, 1.3, 5) #Face Detection\n",
    "        x,y,w,h = faces[0]\n",
    "        crop_img = img[y:y+h, x:x+w]\n",
    "        output_img = crop_img\n",
    "    except:\n",
    "        output_img = None\n",
    "    return output_img\n",
    "\n",
    "\n",
    "def get_crop_img(img_path):\n",
    "    crop_img = get_crop_img_without_rotation(img_path)\n",
    "    if crop_img is None:\n",
    "        try:\n",
    "            img = cv2.imread(img_path)\n",
    "            cr = get_correct_rdeg(img)\n",
    "            print(cr)\n",
    "            rows,cols,channels = img.shape\n",
    "            M = cv2.getRotationMatrix2D((cols/2,rows/2), cr,1)\n",
    "            dst = cv2.warpAffine(img,M,(cols,rows))\n",
    "            gray = cv2.cvtColor(dst, cv2.COLOR_BGR2GRAY) #Transform image to grayscale\n",
    "            faces = face_cascade.detectMultiScale(gray, 1.3, 5) #Face Detection\n",
    "            x,y,w,h = faces[0]\n",
    "            crop_img = dst[y:y+h, x:x+w]\n",
    "            return crop_img\n",
    "        except:\n",
    "            return None\n",
    "    else:\n",
    "        return crop_img\n",
    "\n",
    "    \n",
    "\n"
   ]
  },
  {
   "cell_type": "code",
   "execution_count": 272,
   "metadata": {},
   "outputs": [
    {
     "name": "stdout",
     "output_type": "stream",
     "text": [
      "None\n"
     ]
    },
    {
     "data": {
      "text/plain": [
       "False"
      ]
     },
     "execution_count": 272,
     "metadata": {},
     "output_type": "execute_result"
    }
   ],
   "source": [
    "img_file = \"DataTest/_yinyen/bb.jpeg\"\n",
    "crop_img = get_crop_img(img_file)\n",
    "cv2.imwrite('output01.png',crop_img)\n"
   ]
  },
  {
   "cell_type": "code",
   "execution_count": null,
   "metadata": {},
   "outputs": [],
   "source": []
  }
 ],
 "metadata": {
  "kernelspec": {
   "display_name": "Python 3",
   "language": "python",
   "name": "python3"
  },
  "language_info": {
   "codemirror_mode": {
    "name": "ipython",
    "version": 3
   },
   "file_extension": ".py",
   "mimetype": "text/x-python",
   "name": "python",
   "nbconvert_exporter": "python",
   "pygments_lexer": "ipython3",
   "version": "3.7.1"
  }
 },
 "nbformat": 4,
 "nbformat_minor": 2
}
